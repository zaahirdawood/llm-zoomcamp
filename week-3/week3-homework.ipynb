{
 "cells": [
  {
   "cell_type": "markdown",
   "metadata": {},
   "source": [
    "#### Q1. Getting the embeddings model"
   ]
  },
  {
   "cell_type": "code",
   "execution_count": 1,
   "metadata": {},
   "outputs": [
    {
     "name": "stderr",
     "output_type": "stream",
     "text": [
      "/Users/zaahirdawood/Documents/llm-zoomcamp/.venv/lib/python3.10/site-packages/sentence_transformers/cross_encoder/CrossEncoder.py:11: TqdmWarning: IProgress not found. Please update jupyter and ipywidgets. See https://ipywidgets.readthedocs.io/en/stable/user_install.html\n",
      "  from tqdm.autonotebook import tqdm, trange\n",
      "/Users/zaahirdawood/Documents/llm-zoomcamp/.venv/lib/python3.10/site-packages/huggingface_hub/file_download.py:1132: FutureWarning: `resume_download` is deprecated and will be removed in version 1.0.0. Downloads always resume when possible. If you want to force a new download, use `force_download=True`.\n",
      "  warnings.warn(\n"
     ]
    }
   ],
   "source": [
    "from sentence_transformers import SentenceTransformer\n",
    "\n",
    "model_name = 'multi-qa-distilbert-cos-v1'\n",
    "embedding_model = SentenceTransformer(model_name)"
   ]
  },
  {
   "cell_type": "code",
   "execution_count": 2,
   "metadata": {},
   "outputs": [],
   "source": [
    "user_question = \"I just discovered the course. Can I still join it?\""
   ]
  },
  {
   "cell_type": "code",
   "execution_count": 3,
   "metadata": {},
   "outputs": [
    {
     "data": {
      "text/plain": [
       "np.float32(0.078)"
      ]
     },
     "execution_count": 3,
     "metadata": {},
     "output_type": "execute_result"
    }
   ],
   "source": [
    "v = embedding_model.encode(user_question)\n",
    "\n",
    "round(v[0],3)\n"
   ]
  },
  {
   "cell_type": "code",
   "execution_count": 4,
   "metadata": {},
   "outputs": [],
   "source": [
    "import requests \n",
    "\n",
    "base_url = 'https://github.com/DataTalksClub/llm-zoomcamp/blob/main'\n",
    "relative_url = '03-vector-search/eval/documents-with-ids.json'\n",
    "docs_url = f'{base_url}/{relative_url}?raw=1'\n",
    "docs_response = requests.get(docs_url)\n",
    "documents = docs_response.json()"
   ]
  },
  {
   "cell_type": "code",
   "execution_count": 5,
   "metadata": {},
   "outputs": [
    {
     "data": {
      "text/plain": [
       "{'text': \"The purpose of this document is to capture frequently asked technical questions\\nThe exact day and hour of the course will be 15th Jan 2024 at 17h00. The course will start with the first  “Office Hours'' live.1\\nSubscribe to course public Google Calendar (it works from Desktop only).\\nRegister before the course starts using this link.\\nJoin the course Telegram channel with announcements.\\nDon’t forget to register in DataTalks.Club's Slack and join the channel.\",\n",
       " 'section': 'General course-related questions',\n",
       " 'question': 'Course - When will the course start?',\n",
       " 'course': 'data-engineering-zoomcamp',\n",
       " 'id': 'c02e79ef'}"
      ]
     },
     "execution_count": 5,
     "metadata": {},
     "output_type": "execute_result"
    }
   ],
   "source": [
    "documents[0]"
   ]
  },
  {
   "cell_type": "code",
   "execution_count": 6,
   "metadata": {},
   "outputs": [],
   "source": [
    "documents = [doc for doc in documents if doc['course'] in \"machine-learning-zoomcamp\"]"
   ]
  },
  {
   "cell_type": "markdown",
   "metadata": {},
   "source": [
    "#### Q2. Creating the embeddings"
   ]
  },
  {
   "cell_type": "markdown",
   "metadata": {},
   "source": [
    "Create a list embeddings\n",
    "\n",
    "Iterate over each document\n",
    "\n",
    "qa_text = f'{question} {text}'\n",
    "\n",
    "compute the embedding for qa_text, append to embeddings\n",
    "\n",
    "At the end, let X = np.array(embeddings) (import numpy as np)\n",
    "\n",
    "What's the shape of X? (X.shape). Include the parantheses.\n",
    "\n"
   ]
  },
  {
   "cell_type": "code",
   "execution_count": 7,
   "metadata": {},
   "outputs": [
    {
     "name": "stderr",
     "output_type": "stream",
     "text": [
      "100%|██████████| 375/375 [00:46<00:00,  7.98it/s]\n"
     ]
    }
   ],
   "source": [
    "import numpy as np \n",
    "from tqdm.auto import tqdm\n",
    "\n",
    "embeddings = []\n",
    "\n",
    "for doc in tqdm(documents):\n",
    "    qa_text = f\"{doc['question']} {doc['text']}\"\n",
    "    vector = embedding_model.encode(qa_text)\n",
    "    embeddings.append(vector)\n",
    "\n",
    "X = np.array(embeddings)"
   ]
  },
  {
   "cell_type": "code",
   "execution_count": 8,
   "metadata": {},
   "outputs": [
    {
     "data": {
      "text/plain": [
       "(375, 768)"
      ]
     },
     "execution_count": 8,
     "metadata": {},
     "output_type": "execute_result"
    }
   ],
   "source": [
    "X.shape"
   ]
  },
  {
   "cell_type": "markdown",
   "metadata": {},
   "source": [
    "#### Q3. Search"
   ]
  },
  {
   "cell_type": "code",
   "execution_count": 9,
   "metadata": {},
   "outputs": [
    {
     "data": {
      "text/plain": [
       "np.float32(0.651)"
      ]
     },
     "execution_count": 9,
     "metadata": {},
     "output_type": "execute_result"
    }
   ],
   "source": [
    "scores = X.dot(v)\n",
    "\n",
    "round(max(scores),3)"
   ]
  },
  {
   "cell_type": "markdown",
   "metadata": {},
   "source": [
    "#### Q4. Hit-rate for our search engine"
   ]
  },
  {
   "cell_type": "code",
   "execution_count": 10,
   "metadata": {},
   "outputs": [],
   "source": [
    "from elasticsearch import Elasticsearch\n",
    "\n",
    "es_client = Elasticsearch('http://localhost:9200')\n"
   ]
  },
  {
   "cell_type": "code",
   "execution_count": 11,
   "metadata": {},
   "outputs": [
    {
     "data": {
      "text/plain": [
       "ObjectApiResponse({'name': 'f82fbccab2a3', 'cluster_name': 'docker-cluster', 'cluster_uuid': 'pAGy21jQTGiyE6hPAiVFnQ', 'version': {'number': '8.4.3', 'build_flavor': 'default', 'build_type': 'docker', 'build_hash': '42f05b9372a9a4a470db3b52817899b99a76ee73', 'build_date': '2022-10-04T07:17:24.662462378Z', 'build_snapshot': False, 'lucene_version': '9.3.0', 'minimum_wire_compatibility_version': '7.17.0', 'minimum_index_compatibility_version': '7.0.0'}, 'tagline': 'You Know, for Search'})"
      ]
     },
     "execution_count": 11,
     "metadata": {},
     "output_type": "execute_result"
    }
   ],
   "source": [
    "es_client.info()"
   ]
  },
  {
   "cell_type": "code",
   "execution_count": 12,
   "metadata": {},
   "outputs": [
    {
     "data": {
      "text/plain": [
       "[{'text': 'Yes, you can. You won’t be able to submit some of the homeworks, but you can still take part in the course.\\nIn order to get a certificate, you need to submit 2 out of 3 course projects and review 3 peers’ Projects by the deadline. It means that if you join the course at the end of November and manage to work on two projects, you will still be eligible for a certificate.',\n",
       "  'section': 'General course-related questions',\n",
       "  'question': 'The course has already started. Can I still join it?',\n",
       "  'course': 'machine-learning-zoomcamp',\n",
       "  'id': 'ee58a693'},\n",
       " {'text': 'Welcome to the course! Go to the course page (http://mlzoomcamp.com/), scroll down and start going through the course materials. Then read everything in the cohort folder for your cohort’s year.\\nClick on the links and start watching the videos. Also watch office hours from previous cohorts. Go to DTC youtube channel and click on Playlists and search for {course yyyy}. ML Zoomcamp was first launched in 2021.\\nOr you can just use this link: http://mlzoomcamp.com/#syllabus',\n",
       "  'section': 'General course-related questions',\n",
       "  'question': 'I just joined. What should I do next? How can I access course materials?',\n",
       "  'course': 'machine-learning-zoomcamp',\n",
       "  'id': '0a278fb2'},\n",
       " {'text': \"The process is automated now, so you should receive the email eventually. If you haven’t, check your promotions tab in Gmail as well as spam.\\nIf you unsubscribed from our newsletter, you won't get course related updates too.\\nBut don't worry, it’s not a problem. To make sure you don’t miss anything, join the #course-ml-zoomcamp channel in Slack and our telegram channel with announcements. This is enough to follow the course.\",\n",
       "  'section': 'General course-related questions',\n",
       "  'question': \"I filled the form, but haven't received a confirmation email. Is it normal?\",\n",
       "  'course': 'machine-learning-zoomcamp',\n",
       "  'id': '6ba259b1'},\n",
       " {'text': 'Technically, yes. Advisable? Not really. Reasons:\\nSome homework(s) asks for specific python library versions.\\nAnswers may not match in MCQ options if using different languages other than Python 3.10 (the recommended version for 2023 cohort)\\nAnd as for midterms/capstones, your peer-reviewers may not know these other languages. Do you want to be penalized for others not knowing these other languages?\\nYou can create a separate repo using course’s lessons but written in other languages for your own learnings, but not advisable for submissions.\\ntx[source]',\n",
       "  'section': 'Miscellaneous',\n",
       "  'question': 'Can I do the course in other languages, like R or Scala?',\n",
       "  'course': 'machine-learning-zoomcamp',\n",
       "  'id': '9f261648'},\n",
       " {'text': 'We won’t re-record the course videos. The focus of the course and the skills we want to teach remained the same, and the videos are still up-to-date.\\nIf you haven’t taken part in the previous iteration, you can start watching the videos. It’ll be useful for you and you will learn new things. However, we recommend using Python 3.10 now instead of Python 3.8.',\n",
       "  'section': 'General course-related questions',\n",
       "  'question': 'The course videos are from the previous iteration. Will you release new ones or we’ll use the videos from 2021?',\n",
       "  'course': 'machine-learning-zoomcamp',\n",
       "  'id': 'e7ba6b8a'}]"
      ]
     },
     "execution_count": 12,
     "metadata": {},
     "output_type": "execute_result"
    }
   ],
   "source": [
    "class VectorSearchEngine():\n",
    "    def __init__(self, documents, embeddings):\n",
    "        self.documents = documents\n",
    "        self.embeddings = embeddings\n",
    "\n",
    "    def search(self, v_query, num_results=10):\n",
    "        scores = self.embeddings.dot(v_query)\n",
    "        idx = np.argsort(-scores)[:num_results]\n",
    "        return [self.documents[i] for i in idx]\n",
    "\n",
    "search_engine = VectorSearchEngine(documents=documents, embeddings=X)\n",
    "search_engine.search(v, num_results=5)"
   ]
  },
  {
   "cell_type": "code",
   "execution_count": 13,
   "metadata": {},
   "outputs": [],
   "source": [
    "import pandas as pd\n",
    "\n",
    "base_url = 'https://github.com/DataTalksClub/llm-zoomcamp/blob/main'\n",
    "relative_url = '03-vector-search/eval/ground-truth-data.csv'\n",
    "ground_truth_url = f'{base_url}/{relative_url}?raw=1'\n",
    "\n",
    "df_ground_truth = pd.read_csv(ground_truth_url)\n",
    "df_ground_truth = df_ground_truth[df_ground_truth.course == 'machine-learning-zoomcamp']\n",
    "ground_truth = df_ground_truth.to_dict(orient='records')"
   ]
  },
  {
   "cell_type": "code",
   "execution_count": 14,
   "metadata": {},
   "outputs": [
    {
     "name": "stderr",
     "output_type": "stream",
     "text": [
      "100%|██████████| 1830/1830 [00:29<00:00, 63.05it/s]\n"
     ]
    }
   ],
   "source": [
    "relevance_total = []\n",
    "\n",
    "for question in tqdm(ground_truth):\n",
    "    doc_id = question['document']\n",
    "    v_doc_question = embedding_model.encode(question['question'])\n",
    "    results = search_engine.search(v_doc_question, num_results=5)\n",
    "    relevance = [d['id'] == doc_id for d in results]\n",
    "    relevance_total.append(relevance)"
   ]
  },
  {
   "cell_type": "code",
   "execution_count": 42,
   "metadata": {},
   "outputs": [],
   "source": [
    "def hit_rate(relevance_total):\n",
    "    cnt = 0\n",
    "\n",
    "    for line in relevance_total:\n",
    "        if True in line:\n",
    "            cnt = cnt + 1\n",
    "\n",
    "    return cnt / len(relevance_total)"
   ]
  },
  {
   "cell_type": "code",
   "execution_count": 16,
   "metadata": {},
   "outputs": [
    {
     "data": {
      "text/plain": [
       "0.9398907103825137"
      ]
     },
     "execution_count": 16,
     "metadata": {},
     "output_type": "execute_result"
    }
   ],
   "source": [
    "hit_rate(relevance_total)"
   ]
  },
  {
   "cell_type": "markdown",
   "metadata": {},
   "source": [
    "#### Q5. Indexing with Elasticsearch"
   ]
  },
  {
   "cell_type": "code",
   "execution_count": 17,
   "metadata": {},
   "outputs": [
    {
     "data": {
      "text/plain": [
       "ObjectApiResponse({'acknowledged': True, 'shards_acknowledged': True, 'index': 'course-questions'})"
      ]
     },
     "execution_count": 17,
     "metadata": {},
     "output_type": "execute_result"
    }
   ],
   "source": [
    "index_settings = {\n",
    "    \"settings\": {\n",
    "        \"number_of_shards\": 1,\n",
    "        \"number_of_replicas\": 0\n",
    "    },\n",
    "    \"mappings\": {\n",
    "        \"properties\": {\n",
    "            \"text\": {\"type\": \"text\"},\n",
    "            \"section\": {\"type\": \"text\"},\n",
    "            \"question\": {\"type\": \"text\"},\n",
    "            \"course\": {\"type\": \"keyword\"},\n",
    "            \"id\": {\"type\": \"keyword\"},\n",
    "            \"question_vector\": {\n",
    "                \"type\": \"dense_vector\",\n",
    "                \"dims\": 768,\n",
    "                \"index\": True,\n",
    "                \"similarity\": \"cosine\"\n",
    "            },\n",
    "            \"text_vector\": {\n",
    "                \"type\": \"dense_vector\",\n",
    "                \"dims\": 768,\n",
    "                \"index\": True,\n",
    "                \"similarity\": \"cosine\"\n",
    "            },\n",
    "            \"question_text_vector\": {\n",
    "                \"type\": \"dense_vector\",\n",
    "                \"dims\": 768,\n",
    "                \"index\": True,\n",
    "                \"similarity\": \"cosine\"\n",
    "            },\n",
    "        }\n",
    "    }\n",
    "}\n",
    "\n",
    "index_name = \"course-questions\"\n",
    "\n",
    "es_client.indices.delete(index=index_name, ignore_unavailable=True)\n",
    "es_client.indices.create(index=index_name, body=index_settings)"
   ]
  },
  {
   "cell_type": "code",
   "execution_count": 18,
   "metadata": {},
   "outputs": [
    {
     "data": {
      "text/plain": [
       "{'text': 'Machine Learning Zoomcamp FAQ\\nThe purpose of this document is to capture frequently asked technical questions.\\nWe did this for our data engineering course and it worked quite well. Check this document for inspiration on how to structure your questions and answers:\\nData Engineering Zoomcamp FAQ\\nIn the course GitHub repository there’s a link. Here it is: https://airtable.com/shryxwLd0COOEaqXo\\nwork',\n",
       " 'section': 'General course-related questions',\n",
       " 'question': 'How do I sign up?',\n",
       " 'course': 'machine-learning-zoomcamp',\n",
       " 'id': '0227b872'}"
      ]
     },
     "execution_count": 18,
     "metadata": {},
     "output_type": "execute_result"
    }
   ],
   "source": [
    "documents[0]"
   ]
  },
  {
   "cell_type": "code",
   "execution_count": 19,
   "metadata": {},
   "outputs": [
    {
     "name": "stderr",
     "output_type": "stream",
     "text": [
      "100%|██████████| 375/375 [00:47<00:00,  7.87it/s]\n"
     ]
    }
   ],
   "source": [
    "for doc in tqdm(documents):\n",
    "    \n",
    "    question = doc['question']\n",
    "    text = doc['text']\n",
    "    question_text = f\"{doc['question']} {doc['text']}\"\n",
    "    \n",
    "    doc['question_vector'] = embedding_model.encode(question)\n",
    "    doc['text_vector'] = embedding_model.encode(text)\n",
    "    doc['question_text_vector'] = embedding_model.encode(question_text)\n",
    "    \n",
    "    es_client.index(index=\"course-questions\", document=doc)\n",
    "    \n",
    "    "
   ]
  },
  {
   "cell_type": "code",
   "execution_count": 20,
   "metadata": {},
   "outputs": [],
   "source": [
    "def elastic_search(field, vector, num_results):\n",
    "    knn = {\n",
    "        \"field\": field,\n",
    "        \"query_vector\": vector,\n",
    "        \"k\": num_results,\n",
    "        \"num_candidates\": 10000\n",
    "    }\n",
    "\n",
    "    search_query = {\n",
    "        \"knn\": knn,\n",
    "        \"_source\": [\"id\", \"text\", \"section\", \"question\", \"course\"]  \n",
    "    }\n",
    "\n",
    "    es_results = es_client.search(\n",
    "        index=index_name,\n",
    "        body=search_query\n",
    "    )\n",
    "\n",
    "    result_docs = []\n",
    "    \n",
    "    for hit in es_results['hits']['hits']:\n",
    "        result_docs.append({\n",
    "            \"text\": hit['_source']['text'],\n",
    "            \"section\": hit['_source'].get('section', 'Unknown'),  \n",
    "            \"question\": hit['_source'].get('question', 'Unknown'),\n",
    "            \"course\": hit['_source'].get('course', 'Unknown'),\n",
    "            \"id\": hit['_source'].get('id')\n",
    "        })\n",
    "    \n",
    "    return result_docs"
   ]
  },
  {
   "cell_type": "code",
   "execution_count": 21,
   "metadata": {},
   "outputs": [],
   "source": [
    "query = \"I just discovered the course. Can I still join it?\"\n",
    "\n",
    "query_embeddings = embedding_model.encode(query)"
   ]
  },
  {
   "cell_type": "code",
   "execution_count": 22,
   "metadata": {},
   "outputs": [
    {
     "data": {
      "text/plain": [
       "[{'text': 'Yes, you can. You won’t be able to submit some of the homeworks, but you can still take part in the course.\\nIn order to get a certificate, you need to submit 2 out of 3 course projects and review 3 peers’ Projects by the deadline. It means that if you join the course at the end of November and manage to work on two projects, you will still be eligible for a certificate.',\n",
       "  'section': 'General course-related questions',\n",
       "  'question': 'The course has already started. Can I still join it?',\n",
       "  'course': 'machine-learning-zoomcamp',\n",
       "  'id': 'ee58a693'},\n",
       " {'text': 'Welcome to the course! Go to the course page (http://mlzoomcamp.com/), scroll down and start going through the course materials. Then read everything in the cohort folder for your cohort’s year.\\nClick on the links and start watching the videos. Also watch office hours from previous cohorts. Go to DTC youtube channel and click on Playlists and search for {course yyyy}. ML Zoomcamp was first launched in 2021.\\nOr you can just use this link: http://mlzoomcamp.com/#syllabus',\n",
       "  'section': 'General course-related questions',\n",
       "  'question': 'I just joined. What should I do next? How can I access course materials?',\n",
       "  'course': 'machine-learning-zoomcamp',\n",
       "  'id': '0a278fb2'},\n",
       " {'text': \"Yes! We'll cover some linear algebra in the course, but in general, there will be very few formulas, mostly code.\\nHere are some interesting videos covering linear algebra that you can already watch: ML Zoomcamp 1.8 - Linear Algebra Refresher from Alexey Grigorev or the excellent playlist from 3Blue1Brown Vectors | Chapter 1, Essence of linear algebra. Never hesitate to ask the community for help if you have any question.\\n(Mélanie Fouesnard)\",\n",
       "  'section': 'General course-related questions',\n",
       "  'question': \"I don't know math. Can I take the course?\",\n",
       "  'course': 'machine-learning-zoomcamp',\n",
       "  'id': 'c25b3de4'},\n",
       " {'text': \"Here’s how you join a in Slack: https://slack.com/help/articles/205239967-Join-a-channel\\nClick “All channels” at the top of your left sidebar. If you don't see this option, click “More” to find it.\\nBrowse the list of public channels in your workspace, or use the search bar to search by channel name or description.\\nSelect a channel from the list to view it.\\nClick Join Channel.\\nDo we need to provide the GitHub link to only our code corresponding to the homework questions?\\nYes. You are required to provide the URL to your repo in order to receive a grade\",\n",
       "  'section': 'General course-related questions',\n",
       "  'question': 'I’m new to Slack and can’t find the course channel. Where is it?',\n",
       "  'course': 'machine-learning-zoomcamp',\n",
       "  'id': '4930aa19'},\n",
       " {'text': 'Around ~10 hours per week. Timur Kamaliev did a detailed analysis of how much time students of the previous cohort needed to spend on different modules and projects. Full article',\n",
       "  'section': 'General course-related questions',\n",
       "  'question': 'How much time do I need for this course?',\n",
       "  'course': 'machine-learning-zoomcamp',\n",
       "  'id': 'a6897e8c'}]"
      ]
     },
     "execution_count": 22,
     "metadata": {},
     "output_type": "execute_result"
    }
   ],
   "source": [
    "elastic_search(\"question_vector\",query_embeddings, num_results=5)"
   ]
  },
  {
   "cell_type": "code",
   "execution_count": 23,
   "metadata": {},
   "outputs": [
    {
     "data": {
      "text/plain": [
       "[{'text': 'Yes, you can. You won’t be able to submit some of the homeworks, but you can still take part in the course.\\nIn order to get a certificate, you need to submit 2 out of 3 course projects and review 3 peers’ Projects by the deadline. It means that if you join the course at the end of November and manage to work on two projects, you will still be eligible for a certificate.',\n",
       "  'section': 'General course-related questions',\n",
       "  'question': 'The course has already started. Can I still join it?',\n",
       "  'course': 'machine-learning-zoomcamp',\n",
       "  'id': 'ee58a693',\n",
       "  'question_vector': array([ 0.07717118, -0.04749377,  0.02866323, -0.01141068,  0.08245005,\n",
       "         -0.04042275, -0.02613377,  0.04122073, -0.04840765,  0.01509398,\n",
       "         -0.0014967 , -0.01334827,  0.0461828 ,  0.02318393,  0.04547327,\n",
       "         -0.00809984,  0.07718321, -0.03334848, -0.04180019, -0.02304639,\n",
       "         -0.01866887,  0.00298914, -0.0063176 ,  0.039316  , -0.0228994 ,\n",
       "          0.07724466,  0.06296353,  0.03780019,  0.01174132,  0.00194144,\n",
       "          0.04170821, -0.03760399,  0.07016864,  0.00510292,  0.00653622,\n",
       "         -0.03296595, -0.02829625, -0.00056046,  0.00466105, -0.00999606,\n",
       "         -0.0277027 ,  0.05103412, -0.01879814,  0.0294685 ,  0.0408672 ,\n",
       "         -0.02982984, -0.04375788, -0.04157633,  0.00432764,  0.02794533,\n",
       "          0.01189819, -0.01682707,  0.03482881, -0.05186237,  0.05203058,\n",
       "         -0.05038982, -0.04563645,  0.00430962, -0.04262678,  0.02978888,\n",
       "         -0.0646092 ,  0.03333413, -0.01075118,  0.01344759, -0.04455535,\n",
       "         -0.00390642,  0.02898798,  0.00360393, -0.0428467 ,  0.01495864,\n",
       "          0.01938127, -0.0133607 , -0.0330178 , -0.0311651 ,  0.00541682,\n",
       "         -0.07252549, -0.02238783,  0.03776301, -0.02926106,  0.01082826,\n",
       "          0.06376944,  0.03629703,  0.01232891, -0.01296112, -0.03103363,\n",
       "          0.02172437, -0.06653409, -0.02469192,  0.05102076,  0.04606209,\n",
       "         -0.00150555, -0.0209658 , -0.04179157, -0.04589806,  0.04420703,\n",
       "         -0.04969481, -0.01880633,  0.03912689,  0.02647501, -0.0208833 ,\n",
       "         -0.02416095,  0.03115061,  0.01168454,  0.03776682,  0.02932018,\n",
       "          0.02564728,  0.01244343, -0.07732579, -0.02675871,  0.0060581 ,\n",
       "         -0.03307017, -0.03759477,  0.04007297, -0.01908445, -0.01283638,\n",
       "          0.0139316 ,  0.02985938, -0.0185597 , -0.04159005, -0.04408084,\n",
       "         -0.02858402, -0.03183654,  0.01825984,  0.0551143 ,  0.02909588,\n",
       "          0.07956609, -0.03427625, -0.01349196, -0.02552592, -0.07987271,\n",
       "          0.01046457, -0.0532914 ,  0.05006822,  0.01110601, -0.01445558,\n",
       "          0.04151397,  0.01608482, -0.02675981, -0.02697716,  0.03761787,\n",
       "         -0.03727099,  0.01467203,  0.00242884, -0.00141201, -0.04432881,\n",
       "          0.00298697, -0.03227862,  0.05749701, -0.05189896, -0.01923706,\n",
       "          0.01602915, -0.01652672, -0.02967209,  0.01174109,  0.02994693,\n",
       "          0.02913629, -0.01686162,  0.03337946, -0.0010385 ,  0.00045617,\n",
       "          0.01586799, -0.00691974,  0.03693493, -0.02347385,  0.0168027 ,\n",
       "          0.06158644, -0.02640011, -0.07906422,  0.03143669, -0.02009592,\n",
       "         -0.04423147, -0.02660032,  0.01663609, -0.05779736, -0.01584098,\n",
       "         -0.04402212,  0.0129019 ,  0.01670109,  0.00577501, -0.0221547 ,\n",
       "         -0.03754143, -0.00386406,  0.02709278, -0.03250076, -0.02659011,\n",
       "         -0.02479984, -0.07039908,  0.01720321, -0.01545875,  0.06872236,\n",
       "          0.0485667 ,  0.06886451, -0.01217816, -0.02347972,  0.03785379,\n",
       "         -0.0084336 , -0.06278615,  0.05367041, -0.01803357,  0.04203844,\n",
       "          0.04761242,  0.05599657, -0.05962753,  0.00614892, -0.03251896,\n",
       "          0.00566574,  0.04785291,  0.0267943 , -0.04625529, -0.02315969,\n",
       "         -0.01531139,  0.01153574,  0.05308194,  0.01819081,  0.01184254,\n",
       "          0.01939534,  0.04730244,  0.0340022 ,  0.01868194,  0.019213  ,\n",
       "          0.02214167, -0.0053014 , -0.01638061, -0.04342872, -0.03685812,\n",
       "          0.00637028, -0.0318712 ,  0.00335305, -0.02126901, -0.06660324,\n",
       "         -0.0092264 ,  0.03038567,  0.05681799,  0.00198134,  0.04280461,\n",
       "         -0.00300609, -0.05294659, -0.05332115,  0.0048939 ,  0.03053821,\n",
       "          0.0460829 ,  0.04609125, -0.03419659,  0.05842226,  0.07211084,\n",
       "         -0.00702565,  0.01036915,  0.02731212,  0.00229188, -0.00958136,\n",
       "          0.02995639, -0.06723863,  0.00155237, -0.02091059, -0.0893612 ,\n",
       "          0.06722194, -0.00531679, -0.02892643,  0.02761028, -0.00086071,\n",
       "          0.0302538 ,  0.04241522, -0.03120186,  0.01580429, -0.04497436,\n",
       "         -0.04830071, -0.03990445,  0.04330346,  0.01153302, -0.0275075 ,\n",
       "         -0.04317144, -0.06671868,  0.05677158, -0.02278182, -0.05132616,\n",
       "          0.05490793, -0.03866663, -0.02980486,  0.01539826, -0.01400767,\n",
       "         -0.02071374,  0.00380161, -0.0386884 , -0.00956236, -0.05533719,\n",
       "          0.06626114, -0.00327962,  0.01144241,  0.02905431, -0.00284939,\n",
       "          0.07849171,  0.07204324,  0.0179183 ,  0.01427066,  0.08352723,\n",
       "         -0.09112714,  0.02465475, -0.02852813,  0.05275376,  0.05161143,\n",
       "          0.00177607,  0.00547273, -0.02106756,  0.00365218,  0.0609681 ,\n",
       "         -0.03491621,  0.03231106, -0.00973213, -0.02810889, -0.06033476,\n",
       "         -0.03953242,  0.04968746,  0.01516418, -0.04615548, -0.03001039,\n",
       "          0.01885163, -0.05734351,  0.00921009, -0.0419283 ,  0.00717542,\n",
       "          0.06299538,  0.02549619,  0.02933234,  0.05571157, -0.03324476,\n",
       "          0.00716171,  0.00365383,  0.03915124,  0.07154997,  0.00245672,\n",
       "         -0.03287178,  0.0261834 , -0.01370988,  0.02651352, -0.04852796,\n",
       "         -0.0250507 , -0.00080477, -0.04599191, -0.03226946,  0.02705703,\n",
       "          0.03740786,  0.02282025, -0.03693601, -0.01586985, -0.00997433,\n",
       "         -0.00342334, -0.02353846, -0.03915076, -0.00342419, -0.04056191,\n",
       "         -0.02624377,  0.03871419, -0.00089982, -0.01979446,  0.01432416,\n",
       "         -0.00452486, -0.02908345,  0.01422611, -0.05297258,  0.00376658,\n",
       "          0.01200639,  0.01868913, -0.04652272,  0.00771326, -0.01783268,\n",
       "         -0.01526952,  0.01210185,  0.03121863, -0.03003802,  0.01071915,\n",
       "          0.04608245, -0.02362848, -0.00024769,  0.01955064, -0.00493349,\n",
       "         -0.03921925, -0.00114185,  0.04174842,  0.01540535,  0.01620777,\n",
       "          0.02436227, -0.02424348, -0.00626925,  0.01739316,  0.04215643,\n",
       "         -0.04007144,  0.01790731,  0.04364416,  0.01137218,  0.03994718,\n",
       "          0.10301372,  0.04610268,  0.03841801,  0.00426413,  0.02168049,\n",
       "          0.01873965, -0.03025286,  0.01597758, -0.04445351,  0.06058196,\n",
       "          0.01892622,  0.04364285,  0.02182764,  0.03301676,  0.01686078,\n",
       "          0.02062243,  0.02239079, -0.00065359,  0.02240776, -0.00330178,\n",
       "         -0.01310222,  0.04188662,  0.02271189, -0.09447719,  0.04256279,\n",
       "         -0.07368103,  0.06187879,  0.04272981,  0.04418655, -0.0100302 ,\n",
       "         -0.03316842,  0.01567202, -0.03969955, -0.05606723, -0.00432674,\n",
       "         -0.02899621, -0.0105209 ,  0.03400492,  0.00448768, -0.02216185,\n",
       "          0.0744434 , -0.00270319, -0.00785106, -0.02558536, -0.0275566 ,\n",
       "          0.01376832,  0.01016556,  0.01311094, -0.00084493,  0.0072216 ,\n",
       "         -0.04775009,  0.07352333,  0.03663955, -0.0117507 , -0.02651405,\n",
       "          0.02749692, -0.00032466,  0.04301231, -0.02453631,  0.02317015,\n",
       "          0.0067088 ,  0.02560112,  0.03706022,  0.01365156, -0.06143383,\n",
       "          0.01797274,  0.01278816, -0.03768497,  0.03126355, -0.022554  ,\n",
       "         -0.0195634 ,  0.03876164, -0.0036287 ,  0.00202301, -0.03646564,\n",
       "         -0.01453148,  0.0314713 ,  0.0129884 ,  0.02353944, -0.00294533,\n",
       "         -0.00838542, -0.04776527,  0.08534519,  0.03257115, -0.02201143,\n",
       "         -0.03326999,  0.02018   , -0.08937387,  0.03563303, -0.07027338,\n",
       "         -0.01678219, -0.01969905,  0.01563354, -0.00604202,  0.06042775,\n",
       "         -0.02942752,  0.04706042, -0.07576851,  0.04049145,  0.00060861,\n",
       "          0.00744122, -0.00046534,  0.03556414,  0.00816332, -0.01645223,\n",
       "         -0.06840292,  0.01180823, -0.01628918,  0.00676098, -0.01895744,\n",
       "         -0.02208428, -0.06482376, -0.03533197, -0.01656422, -0.01205188,\n",
       "         -0.01654162,  0.01981902,  0.03417949,  0.03663315,  0.02643991,\n",
       "          0.04045624,  0.02537572,  0.03462446, -0.00933106,  0.00231202,\n",
       "         -0.02684449,  0.02765657,  0.00606309,  0.04906724, -0.00784628,\n",
       "          0.06326   , -0.01168515, -0.03785902,  0.00470555, -0.02585227,\n",
       "          0.0054949 ,  0.00681686,  0.07646871,  0.03014472,  0.03843548,\n",
       "         -0.04515561,  0.02198471, -0.05690439,  0.02574995,  0.02791386,\n",
       "          0.01436315, -0.01865043, -0.03468513, -0.01393678, -0.033293  ,\n",
       "         -0.03403243, -0.00960398, -0.02773678, -0.03701791,  0.00076215,\n",
       "          0.00073251,  0.00331403, -0.02670945, -0.02412386, -0.0033625 ,\n",
       "         -0.01597765, -0.03336455, -0.05486949,  0.02110892,  0.00066557,\n",
       "         -0.00392072, -0.02143514, -0.02913987,  0.03527131, -0.03093408,\n",
       "          0.02272294, -0.04913847, -0.02510779, -0.00830473,  0.04418797,\n",
       "          0.02316204, -0.00962505, -0.01653391, -0.03787114, -0.00996469,\n",
       "         -0.03630293, -0.01345786, -0.03662995,  0.02056884,  0.03834516,\n",
       "         -0.06962116, -0.01894784, -0.02607958,  0.01573291, -0.04701315,\n",
       "         -0.02196585,  0.02028843,  0.06938385,  0.00663837,  0.00943734,\n",
       "         -0.07203857,  0.02570495,  0.04389754,  0.02589054,  0.01378652,\n",
       "          0.00424173,  0.04040038,  0.01975091, -0.01603998, -0.02586206,\n",
       "          0.01517452, -0.04562066, -0.00439473,  0.02687842,  0.00285726,\n",
       "          0.01566051, -0.00813073,  0.00718282,  0.02558613,  0.01124194,\n",
       "         -0.06092602,  0.02239758,  0.0339525 ,  0.03222407,  0.04089458,\n",
       "          0.00464919,  0.06175263, -0.06475782,  0.00808876,  0.01812403,\n",
       "          0.03908952,  0.02851492,  0.03468377,  0.03522318,  0.00059639,\n",
       "          0.02157597,  0.01453452, -0.01233787,  0.01333102,  0.01059357,\n",
       "         -0.02769221,  0.07246463, -0.06859912,  0.00191863, -0.00372683,\n",
       "          0.01109785,  0.0144753 , -0.01272413,  0.00017243, -0.0229508 ,\n",
       "         -0.04834766, -0.01094809, -0.02096749, -0.08041655, -0.01314018,\n",
       "          0.04434305,  0.01582528, -0.0618686 , -0.01266002, -0.00498061,\n",
       "         -0.04414882, -0.0192431 ,  0.02190172, -0.02647467,  0.01989841,\n",
       "          0.08247975,  0.01423653, -0.01353472,  0.0389544 ,  0.01382992,\n",
       "          0.03672598, -0.00110063, -0.00857153, -0.01440411, -0.03515134,\n",
       "         -0.007649  , -0.01068656, -0.01901265, -0.01854409, -0.04446227,\n",
       "          0.01038891, -0.00766078,  0.02980345, -0.00714966, -0.01365605,\n",
       "          0.01399476, -0.02527053,  0.03156175,  0.01827518,  0.0308734 ,\n",
       "         -0.02771436,  0.02427681,  0.04637145, -0.00878251, -0.0019177 ,\n",
       "          0.03515732, -0.01981958,  0.00556617,  0.01348884, -0.02756083,\n",
       "          0.03559939,  0.05418227,  0.02218019, -0.03281109, -0.01205134,\n",
       "         -0.00510014, -0.02679857,  0.05658872, -0.08385067, -0.0384195 ,\n",
       "          0.02182777, -0.0400467 ,  0.07561968, -0.02140651, -0.07068646,\n",
       "          0.04280515, -0.05412126, -0.03356722, -0.06856614,  0.05746903,\n",
       "         -0.0519435 ,  0.03118739,  0.02308616, -0.03986619, -0.03478184,\n",
       "         -0.0018348 , -0.05490065, -0.0635559 , -0.0063867 ,  0.00261233,\n",
       "          0.05423772, -0.02135426, -0.00323602,  0.02888911,  0.08373335,\n",
       "          0.01456427, -0.04059774, -0.02489454,  0.06827402,  0.02589024,\n",
       "          0.00559401, -0.06532952,  0.03646931, -0.09965511,  0.07267513,\n",
       "         -0.00754339, -0.00989759,  0.04478263,  0.05001694, -0.12556538,\n",
       "          0.04673789, -0.0189813 ,  0.03082619,  0.04040178, -0.08107398,\n",
       "         -0.0216893 ,  0.01728166,  0.04389116, -0.07385702,  0.00815556,\n",
       "         -0.04618534, -0.00593602,  0.0151962 , -0.05013458,  0.03545148,\n",
       "          0.09219321, -0.01810729,  0.04140478, -0.01859548,  0.04452376,\n",
       "          0.00494426,  0.02358187,  0.00223535, -0.00075372,  0.05146759,\n",
       "          0.01749253,  0.00484384, -0.00198365, -0.0367749 , -0.05536481,\n",
       "          0.02809934, -0.00637044,  0.05405452], dtype=float32),\n",
       "  'text_vector': array([ 0.09511075, -0.04694205, -0.00697463, -0.00700847,  0.05774159,\n",
       "         -0.04652151,  0.00552564,  0.013561  ,  0.00738006, -0.00524892,\n",
       "         -0.04102329, -0.00856198,  0.07881508,  0.02104146,  0.06581444,\n",
       "         -0.05610008,  0.02565485, -0.04525324,  0.0082515 , -0.03592907,\n",
       "          0.01329965,  0.03109536,  0.00569708,  0.03406901, -0.01759409,\n",
       "          0.08603131,  0.00510825,  0.05760888,  0.03137565,  0.0010768 ,\n",
       "          0.02797511,  0.0028558 ,  0.10272732, -0.00154035,  0.04237   ,\n",
       "         -0.04293535, -0.08035379, -0.04541076, -0.03814302, -0.03478362,\n",
       "          0.00159408,  0.05720123, -0.01282686,  0.01353729, -0.00319767,\n",
       "         -0.0243846 ,  0.02100041, -0.0503116 ,  0.01834891,  0.04911818,\n",
       "         -0.00367315,  0.0412989 , -0.00566777, -0.04078886, -0.01165293,\n",
       "         -0.0229063 , -0.00166569, -0.07032361,  0.0162008 ,  0.08074979,\n",
       "         -0.01466588,  0.0181205 , -0.02855374,  0.02562521, -0.04971337,\n",
       "         -0.0297151 ,  0.01910415, -0.00986874, -0.08244784, -0.01288876,\n",
       "          0.01885767,  0.04838131, -0.00943581, -0.00795207,  0.00145198,\n",
       "         -0.02709667,  0.01437775,  0.03099753,  0.00377492,  0.03814577,\n",
       "          0.0810962 ,  0.01997942, -0.03096152,  0.01086922, -0.01281803,\n",
       "          0.05877398, -0.03606385, -0.04398651,  0.02160663,  0.05999196,\n",
       "          0.01991289,  0.04708729, -0.01462842, -0.01729545,  0.06124823,\n",
       "          0.07888438, -0.06803688, -0.00952682,  0.00569347, -0.02777991,\n",
       "         -0.0191994 , -0.00580236,  0.03694554,  0.04721038,  0.02884143,\n",
       "          0.00524222, -0.03134158, -0.05136447, -0.02620312, -0.01769411,\n",
       "          0.01955374, -0.03878241, -0.00500615, -0.00527163,  0.01011704,\n",
       "         -0.02907881,  0.04970654,  0.00410957, -0.08566805,  0.02050497,\n",
       "         -0.05861159, -0.00620313,  0.01765919,  0.04117865,  0.02387035,\n",
       "          0.05688965, -0.01707597, -0.02962153, -0.00248143, -0.03109747,\n",
       "          0.04897921,  0.03096181,  0.03590585, -0.0213373 ,  0.02777138,\n",
       "         -0.00691377, -0.01972541, -0.04668768, -0.00077419,  0.006524  ,\n",
       "         -0.06752455,  0.01949039,  0.02426056,  0.04442538, -0.01148005,\n",
       "          0.05997903, -0.05850461,  0.09076597, -0.06404472,  0.03986775,\n",
       "          0.02075903,  0.03570525, -0.03691933,  0.01229164,  0.03830332,\n",
       "          0.02185936,  0.00128526,  0.03548327, -0.04357448, -0.05486638,\n",
       "          0.00067835,  0.03375053,  0.05834153,  0.02177659, -0.00935482,\n",
       "          0.03613837,  0.03338391, -0.05478673,  0.0375303 , -0.00602175,\n",
       "         -0.05594215, -0.02955397, -0.03000546, -0.05401083,  0.01138353,\n",
       "         -0.0494261 , -0.01927842,  0.00922291,  0.02375484, -0.03535291,\n",
       "         -0.04275315, -0.00743943,  0.02787439, -0.06435081, -0.0474874 ,\n",
       "          0.03199703, -0.01310743,  0.0081501 , -0.04642541,  0.0217819 ,\n",
       "          0.0016869 ,  0.03365844,  0.00237695, -0.02659275,  0.02430937,\n",
       "          0.01505784,  0.0326062 ,  0.05622356,  0.00444103,  0.02829228,\n",
       "          0.05251683,  0.03240127,  0.03740836, -0.07983847, -0.03701602,\n",
       "          0.00513373, -0.01404214,  0.07130428,  0.00129725, -0.02797458,\n",
       "          0.00242429,  0.02369166,  0.06884868,  0.02799263, -0.0168633 ,\n",
       "          0.0569055 , -0.00021428,  0.04061921,  0.01907295, -0.03929095,\n",
       "          0.02738746, -0.02323183,  0.05641435,  0.02624836,  0.00904918,\n",
       "         -0.00381644, -0.01800833,  0.02761924,  0.0055924 , -0.02482482,\n",
       "         -0.08536976,  0.04459042,  0.01396892, -0.01161509,  0.04081048,\n",
       "         -0.02068915, -0.04501996, -0.032993  ,  0.02396544,  0.02365723,\n",
       "          0.01184112,  0.04363761, -0.06389387, -0.00288461,  0.0890025 ,\n",
       "          0.0335771 , -0.01128928,  0.02854286,  0.01283984,  0.02657331,\n",
       "          0.044393  , -0.01348593, -0.01123995, -0.03292991, -0.05305017,\n",
       "          0.00030357, -0.02557249, -0.07361504, -0.00593871,  0.00580486,\n",
       "          0.00718537,  0.03434563,  0.01891895,  0.01167781, -0.03110915,\n",
       "         -0.02572621, -0.01764482, -0.01916837, -0.01134525, -0.04921345,\n",
       "          0.00886389, -0.04068515,  0.06740654, -0.02600428, -0.03503419,\n",
       "          0.06237768, -0.0071565 , -0.02515678,  0.0146922 ,  0.01777586,\n",
       "         -0.00399839, -0.07269105, -0.0507523 , -0.03478064, -0.03452186,\n",
       "          0.01798007,  0.02903812, -0.03714105,  0.05457807, -0.02818761,\n",
       "          0.08721925,  0.06393758,  0.00999219,  0.04407507,  0.03878037,\n",
       "         -0.03896488, -0.00299211,  0.00059172,  0.00043584,  0.00512745,\n",
       "          0.03613247,  0.02612566, -0.03955346,  0.04306267,  0.01527796,\n",
       "          0.01159134, -0.04005355, -0.02258056, -0.02317313, -0.05703903,\n",
       "         -0.04770667, -0.0139719 ,  0.02399308, -0.0344922 ,  0.02028457,\n",
       "         -0.02023752,  0.00848933, -0.01181843,  0.00969136,  0.05991532,\n",
       "          0.04665993,  0.08951933, -0.00325462,  0.05428515, -0.05377959,\n",
       "          0.00495764,  0.03247654,  0.04261485,  0.00382902,  0.016802  ,\n",
       "         -0.02011745, -0.03711233,  0.01269574, -0.05438511, -0.08226146,\n",
       "         -0.02055436,  0.00358092,  0.01998447, -0.02336782,  0.02697621,\n",
       "          0.01336939, -0.00735055, -0.01719959,  0.04141362,  0.01623143,\n",
       "          0.04437725, -0.04351043, -0.01182557, -0.04993285, -0.02957134,\n",
       "         -0.06446505, -0.03678188, -0.01809366, -0.00101606,  0.07270622,\n",
       "         -0.03650359, -0.02714232,  0.04605073, -0.01966797,  0.02305345,\n",
       "          0.04456372, -0.04196407, -0.07825851,  0.0063959 , -0.03307461,\n",
       "          0.01498199, -0.08223488, -0.00992183, -0.03221354,  0.0171948 ,\n",
       "          0.04001372, -0.05344646,  0.03136686, -0.00564819,  0.00495917,\n",
       "         -0.07998966, -0.0126684 , -0.01834725,  0.02422991, -0.01148428,\n",
       "         -0.01900365, -0.02302158,  0.00910993, -0.02693671,  0.05044167,\n",
       "         -0.04063446,  0.00874631,  0.02439107, -0.02163541, -0.01053507,\n",
       "          0.02413075,  0.06656324,  0.01299469,  0.03589253,  0.0094729 ,\n",
       "          0.01652066, -0.00676995, -0.02967891, -0.03252554,  0.00144548,\n",
       "         -0.01055168,  0.02985219,  0.06579699,  0.02157636, -0.02195215,\n",
       "          0.00684853,  0.01561146, -0.03204121, -0.02401488,  0.03031952,\n",
       "          0.00058953,  0.00641186,  0.01553981, -0.04747489, -0.02268416,\n",
       "          0.00115405, -0.03026327,  0.01953051,  0.01055668, -0.05540454,\n",
       "         -0.03643775,  0.05334185, -0.02650276,  0.00635545,  0.00760242,\n",
       "         -0.02651319,  0.02314956,  0.01756046,  0.01010062,  0.03016522,\n",
       "          0.07405961, -0.05368847,  0.02632758, -0.05069948, -0.03526835,\n",
       "          0.0117399 ,  0.01549582,  0.02327894, -0.06502088,  0.05174723,\n",
       "         -0.03576056,  0.01387857, -0.00081792,  0.0282828 , -0.0392361 ,\n",
       "          0.05557353,  0.02386397, -0.01418285, -0.04473352, -0.04638474,\n",
       "          0.0332997 , -0.02207132,  0.08024152, -0.02864429, -0.06386314,\n",
       "         -0.02742678,  0.02385183, -0.04059439,  0.00251397, -0.03476899,\n",
       "         -0.02010363,  0.01368503,  0.00129763, -0.06998409, -0.02916418,\n",
       "         -0.0138865 ,  0.04271536,  0.04200771,  0.04344314, -0.04474819,\n",
       "          0.00102376, -0.03309545,  0.02706012,  0.01872529, -0.03447058,\n",
       "          0.01369062, -0.01047387, -0.05452385,  0.02552717, -0.10129014,\n",
       "          0.01130837,  0.0066217 , -0.00940904,  0.05187752,  0.03289207,\n",
       "         -0.0426756 , -0.00407884, -0.02329991, -0.00348351, -0.07845098,\n",
       "          0.04611763, -0.02158334,  0.01493066,  0.00073993,  0.01421887,\n",
       "         -0.02207114, -0.00112177,  0.02671236, -0.01374151, -0.06239677,\n",
       "         -0.01814956, -0.00248654,  0.01350835, -0.01033575,  0.05665571,\n",
       "          0.0015168 ,  0.02428075, -0.01324795, -0.00355868, -0.00063892,\n",
       "         -0.01899576,  0.01424215,  0.0140724 , -0.03472511, -0.05702602,\n",
       "          0.00889253, -0.02440068, -0.03195763,  0.00364096, -0.04241177,\n",
       "          0.02477862,  0.0456838 , -0.07190557,  0.01945841,  0.005441  ,\n",
       "          0.03750747,  0.01039902, -0.02820491,  0.02956261,  0.08238637,\n",
       "         -0.02869553, -0.01903871,  0.00735394,  0.04413358,  0.02319866,\n",
       "          0.00203232,  0.07522165, -0.01134993, -0.01944045,  0.00105235,\n",
       "         -0.02616534, -0.02659615,  0.00091293, -0.05822826,  0.00751829,\n",
       "         -0.01205429,  0.01919462, -0.01497115, -0.01632784, -0.02309581,\n",
       "          0.0046963 , -0.04418864, -0.0331509 ,  0.03633911, -0.01237599,\n",
       "          0.01557716,  0.00456886, -0.03893628,  0.05262377, -0.02160111,\n",
       "          0.05912817, -0.04588411,  0.0269669 ,  0.05253173,  0.05163268,\n",
       "         -0.00259392,  0.04793489,  0.02561528, -0.03033704, -0.00174366,\n",
       "          0.01670971, -0.00459759, -0.01882011,  0.02508776,  0.01944708,\n",
       "         -0.02002077, -0.05028591,  0.01590615,  0.06977537, -0.00212135,\n",
       "          0.03387243,  0.02014635,  0.0890261 , -0.00973961,  0.02453372,\n",
       "         -0.06643113,  0.01642372, -0.00209244,  0.0151342 ,  0.01464993,\n",
       "          0.00196883,  0.01565475,  0.00444113,  0.0466941 ,  0.01431788,\n",
       "          0.02817183,  0.00121286, -0.04110723,  0.0233782 ,  0.00798622,\n",
       "         -0.01769174, -0.02643481,  0.00294259,  0.04550863,  0.02929695,\n",
       "         -0.05695356,  0.00575656,  0.03195119,  0.02127985,  0.03414571,\n",
       "         -0.03821087,  0.01475581, -0.02928069,  0.07528599,  0.04587222,\n",
       "          0.00388751,  0.03942962,  0.01928169, -0.0059639 ,  0.00631957,\n",
       "          0.01991089, -0.01971088, -0.00308673, -0.02894451,  0.02206446,\n",
       "         -0.03616687,  0.01126344, -0.02656577,  0.01712041, -0.01185013,\n",
       "          0.02709995, -0.01973403, -0.02053986, -0.00483432, -0.01857498,\n",
       "         -0.05472948, -0.05143355,  0.0164328 , -0.06594112, -0.00591009,\n",
       "          0.01523963,  0.03365516, -0.01990102,  0.07434699, -0.03720469,\n",
       "         -0.05232007,  0.02180486,  0.0127099 , -0.0648834 ,  0.01085912,\n",
       "          0.09390699, -0.01452129, -0.03733254,  0.01709644, -0.0437485 ,\n",
       "          0.0252238 , -0.00645505,  0.01352145, -0.02195299, -0.03363727,\n",
       "         -0.0080498 , -0.00400234, -0.05479069,  0.04589101, -0.01143485,\n",
       "         -0.01529871,  0.03571585, -0.00502333, -0.0035427 , -0.02205046,\n",
       "          0.03569031,  0.02938694,  0.02153859, -0.01154308,  0.06075521,\n",
       "         -0.00204374, -0.00740143,  0.02537051,  0.02056496, -0.05389359,\n",
       "         -0.02778034,  0.07246996,  0.03971432,  0.00857737, -0.0196948 ,\n",
       "          0.05261223,  0.04689036, -0.03460351, -0.01335335, -0.05394882,\n",
       "          0.02596366, -0.02251416,  0.02706964, -0.0174109 , -0.05754034,\n",
       "          0.06181893, -0.03758134,  0.04920855, -0.06619291,  0.02544066,\n",
       "          0.05750613,  0.02884071, -0.07035306, -0.0212482 ,  0.0635138 ,\n",
       "         -0.02422077,  0.02469328,  0.00310977,  0.00335759, -0.06860827,\n",
       "         -0.01480458, -0.10421117, -0.03908278,  0.03305161, -0.01998592,\n",
       "          0.07292834, -0.02659906,  0.01045557,  0.04909931,  0.00520066,\n",
       "          0.03906168, -0.03801032, -0.03016461,  0.06437367, -0.00207273,\n",
       "         -0.02388719, -0.04800699, -0.01248643,  0.0176516 ,  0.03593676,\n",
       "          0.02581986, -0.02659105,  0.032019  ,  0.04187163, -0.06490053,\n",
       "          0.0302349 ,  0.01702723, -0.01212973,  0.01457053, -0.06091643,\n",
       "          0.00695429,  0.02144467, -0.03239879, -0.0207974 , -0.04877238,\n",
       "          0.00043003,  0.02213599, -0.06666071, -0.03057925, -0.02506661,\n",
       "          0.00967234, -0.00861443,  0.01753111, -0.01841659,  0.04390752,\n",
       "          0.01718613, -0.01186071,  0.01560814,  0.04704726,  0.06332745,\n",
       "          0.00400654,  0.01853364, -0.01525603, -0.01483413, -0.02213543,\n",
       "         -0.03760695,  0.00740425, -0.02150813], dtype=float32),\n",
       "  'question_text_vector': array([ 8.06286186e-02, -6.66387975e-02,  2.52730642e-02, -1.30044250e-02,\n",
       "          7.58728534e-02, -5.94626181e-02, -2.18838789e-02,  2.90005282e-03,\n",
       "          7.92921695e-04, -5.22233173e-03, -3.36517915e-02, -2.79135611e-02,\n",
       "          5.81165850e-02,  3.97482812e-02,  5.44185601e-02, -3.82516496e-02,\n",
       "          6.30574375e-02, -3.89698893e-02,  4.33608802e-04, -3.55846025e-02,\n",
       "          1.75638322e-03,  2.57003140e-02, -1.96949043e-03,  3.42873484e-02,\n",
       "         -1.10145425e-02,  1.00116134e-01,  8.42718035e-03,  4.99220937e-02,\n",
       "          3.42745706e-02, -2.61462643e-03,  2.45760083e-02, -1.38609177e-02,\n",
       "          8.86121988e-02,  1.47412368e-03,  2.88015474e-02, -4.74376343e-02,\n",
       "         -8.68064687e-02, -2.67683845e-02, -4.61648479e-02, -2.08483357e-02,\n",
       "         -1.08262030e-02,  6.64494261e-02, -1.04110725e-02,  8.96763429e-03,\n",
       "          1.24464044e-02, -4.02041003e-02, -1.03664920e-02, -4.09442484e-02,\n",
       "          1.35111557e-02,  4.44368199e-02,  5.28293289e-03,  8.58457107e-03,\n",
       "         -3.37543059e-03, -5.43013439e-02,  4.12751455e-03, -4.45795283e-02,\n",
       "         -6.45066192e-03, -6.00181930e-02,  1.81960706e-02,  5.26313819e-02,\n",
       "         -1.44615490e-02,  6.67052635e-04, -1.82453841e-02,  1.10381767e-02,\n",
       "         -6.45249411e-02, -2.31174361e-02,  4.31271754e-02, -1.91581212e-02,\n",
       "         -7.38765597e-02,  1.20652840e-02,  1.82868466e-02,  2.72409227e-02,\n",
       "         -2.39931829e-02, -1.03008673e-02, -7.45347887e-03, -5.03414609e-02,\n",
       "         -5.91991935e-03,  3.52894031e-02, -3.59170226e-04,  3.95131223e-02,\n",
       "          9.39397141e-02,  2.44548656e-02, -2.35605203e-02,  2.22812854e-02,\n",
       "         -2.07160860e-02,  4.55888212e-02, -4.73781712e-02, -2.52006855e-02,\n",
       "          1.98274367e-02,  6.50478303e-02,  1.10716578e-02,  2.40171794e-02,\n",
       "         -1.86780021e-02, -3.51350792e-02,  5.10320142e-02,  3.31685133e-02,\n",
       "         -6.49355650e-02, -2.59124977e-03,  2.42451336e-02, -2.67152898e-02,\n",
       "         -1.19116511e-02,  2.61614751e-02,  2.91058179e-02,  4.45242040e-02,\n",
       "          4.02035825e-02,  4.69587697e-03, -3.12031899e-02, -3.90374102e-02,\n",
       "         -3.85016575e-02, -4.07604454e-03, -8.81643873e-03, -2.94115078e-02,\n",
       "          5.44283725e-03,  8.99185799e-03,  1.26048159e-02, -1.15357097e-02,\n",
       "          2.97029447e-02,  3.41758918e-04, -5.60694076e-02, -8.22765753e-03,\n",
       "         -8.12422931e-02,  1.10851377e-02,  2.85042683e-03,  5.08824289e-02,\n",
       "          1.58895664e-02,  8.77341032e-02, -2.63551641e-02, -3.03332787e-02,\n",
       "         -1.59964692e-02, -4.53835092e-02,  1.96122359e-02,  2.73448671e-03,\n",
       "          2.64893807e-02, -2.02755015e-02,  1.49185462e-02,  1.33989649e-02,\n",
       "          1.07803456e-02, -3.66536863e-02, -1.31814051e-02,  2.76530962e-02,\n",
       "         -6.37916028e-02,  1.44175487e-02,  2.12119799e-02,  3.45917270e-02,\n",
       "         -2.88098082e-02,  6.17480464e-02, -5.39440550e-02,  8.25116634e-02,\n",
       "         -5.84929809e-02,  1.52980732e-02,  2.02331282e-02,  5.60598448e-03,\n",
       "         -2.41103079e-02,  2.02515200e-02,  3.72344442e-02,  5.81321353e-03,\n",
       "          1.05591933e-03,  1.96619462e-02, -2.17299610e-02, -2.61988435e-02,\n",
       "          5.37637714e-03,  1.31715406e-02,  5.46547472e-02,  1.40491854e-02,\n",
       "          5.74235455e-04,  3.11388634e-02,  1.36654172e-02, -8.01443830e-02,\n",
       "          3.44310515e-02, -1.63347125e-02, -5.50579727e-02, -4.71392535e-02,\n",
       "         -1.49948839e-02, -5.12618199e-02, -4.65377094e-03, -3.56197655e-02,\n",
       "          6.38736598e-03,  1.12791518e-02,  1.34441266e-02, -3.83408517e-02,\n",
       "         -5.74391596e-02,  1.24417124e-02,  1.65714398e-02, -6.06452301e-02,\n",
       "         -2.94776037e-02,  3.90768982e-02, -2.39008907e-02,  1.96105409e-02,\n",
       "         -6.99394420e-02,  3.88113372e-02,  1.94049068e-02,  4.16525528e-02,\n",
       "          9.23843496e-03, -3.10964119e-02,  1.98667739e-02, -1.58090498e-02,\n",
       "          5.95025066e-03,  4.91440818e-02,  6.96233427e-03,  2.34172344e-02,\n",
       "          6.61547929e-02,  6.57122135e-02,  7.72321550e-03, -4.20989506e-02,\n",
       "         -3.61940823e-02,  9.58818384e-03,  3.50344777e-02,  5.54107055e-02,\n",
       "         -3.56877819e-02, -2.92082559e-02, -1.03346650e-02,  2.89308671e-02,\n",
       "          7.19071478e-02,  1.87930372e-02,  1.41064283e-02,  4.27227803e-02,\n",
       "          3.47548127e-02,  2.48548910e-02,  2.93340888e-02, -1.23736905e-02,\n",
       "          2.85321269e-02, -2.15753708e-02,  5.87061420e-02, -1.10233261e-03,\n",
       "         -3.22346017e-02, -2.13520089e-03, -9.66896396e-03,  1.19901728e-02,\n",
       "          3.76889505e-03, -4.69033234e-02, -5.98941520e-02,  3.26140895e-02,\n",
       "          1.88574381e-02, -2.57801693e-02,  3.10653914e-02, -2.74636075e-02,\n",
       "         -7.10009784e-02, -4.47561033e-02,  3.16406367e-03,  4.81271669e-02,\n",
       "          2.15289891e-02,  2.94706561e-02, -5.02595417e-02,  3.42068239e-03,\n",
       "          8.71217921e-02,  4.19497676e-02,  1.63328405e-02,  2.94033680e-02,\n",
       "          1.62135493e-02,  1.74595620e-02,  4.85433601e-02, -2.01642662e-02,\n",
       "         -1.20421769e-02, -3.74278203e-02, -6.28909916e-02,  1.31602148e-02,\n",
       "         -2.14827973e-02, -7.42043108e-02,  1.84703860e-02,  7.03849364e-03,\n",
       "          2.61578783e-02,  2.15793904e-02,  5.02294954e-03,  6.16984861e-03,\n",
       "         -2.75468025e-02, -2.77298857e-02, -3.07981875e-02,  7.48554710e-03,\n",
       "          4.54989867e-03, -3.93478088e-02,  3.82941193e-03, -6.68297112e-02,\n",
       "          9.48325098e-02, -1.92433428e-02, -2.36341543e-02,  7.32095316e-02,\n",
       "         -4.91256453e-03, -2.36472767e-02,  1.95181891e-02,  7.54692964e-03,\n",
       "         -3.35114561e-02, -5.83111197e-02, -5.96822426e-02, -3.95031795e-02,\n",
       "         -4.05622236e-02,  3.52265462e-02,  3.77747044e-02, -4.56139855e-02,\n",
       "          4.49186862e-02, -3.89562249e-02,  1.01821557e-01,  7.17722923e-02,\n",
       "          1.25525668e-02,  4.00805324e-02,  5.36213405e-02, -7.50533789e-02,\n",
       "          1.29943565e-02, -1.00874330e-03, -5.30553190e-03,  3.08141802e-02,\n",
       "          3.36636752e-02,  2.44348943e-02, -3.32300961e-02,  1.59025155e-02,\n",
       "          3.40257175e-02,  8.46991315e-03, -1.11340415e-02, -9.09258146e-03,\n",
       "         -2.90519334e-02, -7.64854699e-02, -2.12823916e-02,  8.88933707e-03,\n",
       "          1.51323956e-02, -6.24570586e-02,  1.73718296e-02, -2.14816956e-03,\n",
       "         -2.05541346e-02, -1.28170317e-02, -3.19838437e-04,  4.79089059e-02,\n",
       "          6.41545728e-02,  6.61799312e-02,  1.48708969e-02,  4.61012870e-02,\n",
       "         -6.13984279e-02,  2.73606870e-02,  1.25894640e-02,  2.84697805e-02,\n",
       "          1.65258162e-02,  4.11765836e-03, -2.07421072e-02, -3.07560489e-02,\n",
       "          8.01558327e-03, -2.74543632e-02, -7.47370124e-02, -7.01201567e-03,\n",
       "          4.82841115e-03, -5.10642258e-03, -4.49520126e-02,  2.24617962e-02,\n",
       "          2.40530949e-02, -1.04256980e-02, -2.22627055e-02,  1.43337529e-02,\n",
       "          1.18427984e-02,  6.07463419e-02, -3.95013839e-02, -3.32748592e-02,\n",
       "         -1.60620399e-02, -5.98153435e-02, -6.34119436e-02,  3.94622004e-03,\n",
       "         -5.17403241e-04, -2.34305505e-02,  7.43448138e-02, -4.05743644e-02,\n",
       "         -3.54152769e-02,  3.39139253e-02, -3.92926782e-02,  8.58369190e-03,\n",
       "          3.30981426e-02, -4.23735678e-02, -5.76041043e-02,  1.60484947e-02,\n",
       "         -3.50689739e-02, -2.10581273e-02, -7.47876912e-02,  1.25099458e-02,\n",
       "         -5.71070462e-02,  2.29344424e-02,  5.40292710e-02, -3.40089165e-02,\n",
       "          1.22821061e-02,  2.22659837e-02, -7.45525025e-03, -8.55378881e-02,\n",
       "         -7.20402040e-03, -5.49366232e-03,  2.24036332e-02,  2.22797855e-03,\n",
       "          2.81454599e-03, -2.49000043e-02, -1.03733335e-02, -2.09149476e-02,\n",
       "          8.21761861e-02, -2.74868738e-02,  8.05249903e-03,  1.74009390e-02,\n",
       "         -2.49467976e-02,  7.72254122e-03,  7.95931146e-02,  6.37919009e-02,\n",
       "          2.27348804e-02,  3.10999602e-02,  3.10714263e-02,  1.51963476e-02,\n",
       "         -2.98182666e-02,  1.99352624e-03, -4.58673500e-02,  2.33464502e-02,\n",
       "         -1.92453954e-02,  4.03525494e-02,  5.90993948e-02,  3.07436250e-02,\n",
       "         -6.15920220e-03,  1.44931115e-02,  7.81027554e-03, -1.32328449e-02,\n",
       "          1.26611637e-02,  2.57896967e-02,  8.68233480e-03,  2.15905327e-02,\n",
       "          6.90306257e-03, -6.63052499e-02, -8.88154283e-03, -2.55883187e-02,\n",
       "          5.38663939e-03,  2.29347423e-02,  4.13466729e-02, -5.41523285e-02,\n",
       "         -4.99818958e-02,  5.78160584e-02, -2.84926705e-02, -6.50726119e-03,\n",
       "         -1.04961200e-02, -9.46155749e-03,  1.34862289e-02,  2.54936107e-02,\n",
       "          1.80115756e-02,  2.49517784e-02,  9.43281800e-02, -1.43092312e-02,\n",
       "          6.70922594e-03, -4.51977178e-02, -3.91038954e-02,  2.63268854e-02,\n",
       "          1.38960872e-02,  1.60174333e-02, -6.60358891e-02,  5.12271002e-02,\n",
       "         -5.83163574e-02,  1.56516023e-02,  7.56921479e-03,  2.23690104e-02,\n",
       "         -4.81961705e-02,  5.18791378e-02,  2.45033968e-02,  1.96223818e-02,\n",
       "         -2.59848759e-02, -1.26985470e-02,  1.97230391e-02, -8.81346967e-03,\n",
       "          8.61122012e-02, -6.47073612e-03, -5.05535267e-02, -1.63214412e-02,\n",
       "          2.62587704e-02, -3.07541192e-02,  9.47811082e-03, -3.04113161e-02,\n",
       "         -1.76595524e-02,  3.92061546e-02, -2.96988687e-03, -4.65534329e-02,\n",
       "         -2.18910705e-02, -1.00203492e-02,  3.22054178e-02,  6.00714386e-02,\n",
       "          2.55891252e-02, -2.94519365e-02,  1.21493242e-04, -3.27882916e-02,\n",
       "          6.97235763e-02,  2.25585531e-02, -3.10501065e-02,  3.89138726e-03,\n",
       "          1.09213423e-02, -6.30562603e-02,  3.21830325e-02, -6.76807091e-02,\n",
       "          3.97886522e-03, -8.17099586e-03,  4.53666272e-03,  2.64220871e-02,\n",
       "          2.11293232e-02, -3.42155769e-02,  6.84221368e-03, -4.22509983e-02,\n",
       "          1.19213602e-02, -4.25459705e-02,  1.57745928e-02, -5.76769607e-03,\n",
       "          1.47587359e-02, -2.09755590e-03,  1.37229366e-02, -6.96364567e-02,\n",
       "         -2.38066609e-03,  2.35179123e-02,  9.60177463e-03, -5.37823848e-02,\n",
       "         -2.88070828e-06, -1.18831983e-02,  7.32490607e-03, -2.72838231e-02,\n",
       "          2.29202006e-02,  1.10435729e-04,  1.92525610e-03, -9.14005376e-03,\n",
       "          1.70987211e-02,  3.30467075e-02,  9.97121632e-03,  3.16655189e-02,\n",
       "          1.69548150e-02, -4.16181050e-02, -3.60161737e-02, -1.04235597e-02,\n",
       "          1.87281519e-03, -1.25375492e-02,  3.63992564e-02, -3.34372595e-02,\n",
       "          3.51533554e-02,  3.69578078e-02, -6.70045614e-02,  4.52644331e-03,\n",
       "         -4.72161267e-03,  4.41036932e-02,  2.25653201e-02,  8.55407398e-03,\n",
       "          5.32346517e-02,  8.19476172e-02, -2.11781058e-02, -3.00196540e-02,\n",
       "         -1.85104907e-02,  6.65352494e-02,  2.31689624e-02,  1.27369945e-03,\n",
       "          4.64137569e-02, -3.67953368e-02, -3.33443619e-02, -1.78883895e-02,\n",
       "         -2.73124371e-02, -2.44998094e-02, -5.34852184e-02, -6.32877722e-02,\n",
       "         -2.48697028e-02,  1.45366561e-04,  3.58407088e-02, -8.10892042e-03,\n",
       "         -2.19071787e-02, -2.09499560e-02,  1.62572172e-02, -5.84444441e-02,\n",
       "         -7.80775249e-02,  4.23112474e-02,  1.35252792e-02,  7.45680183e-03,\n",
       "         -8.64951126e-03, -3.48464884e-02,  4.49516997e-02, -2.35443823e-02,\n",
       "          4.58562262e-02, -4.90249544e-02,  1.01888645e-02,  4.24888954e-02,\n",
       "          6.09173886e-02,  5.38796559e-03,  3.76579410e-04,  9.04140621e-03,\n",
       "         -4.28857617e-02, -2.24562678e-02,  2.18130532e-03, -1.07374629e-02,\n",
       "         -1.17954565e-02,  2.77545340e-02,  1.61707718e-02, -4.22853641e-02,\n",
       "         -3.44112031e-02, -2.55371153e-04,  6.06702715e-02, -1.78124569e-02,\n",
       "          2.74472423e-02,  2.86584180e-02,  9.69789699e-02, -1.49428714e-02,\n",
       "          1.16048753e-02, -7.32316598e-02, -6.75503211e-03,  2.21057013e-02,\n",
       "          3.29457745e-02,  2.22994052e-02,  5.38835395e-03,  4.58259545e-02,\n",
       "          1.69980936e-02,  2.46881898e-02,  9.28141084e-03,  3.44026126e-02,\n",
       "         -1.71339978e-02, -4.17131148e-02,  1.38856787e-02,  6.04084972e-03,\n",
       "         -1.71182193e-02, -3.92500199e-02,  3.89148691e-03,  2.96883695e-02,\n",
       "          1.57749802e-02, -4.94715460e-02,  1.47582814e-02,  4.15547453e-02,\n",
       "          1.91860367e-02,  2.96461992e-02, -3.07016782e-02,  1.85787883e-02,\n",
       "         -3.57779488e-02,  5.00503294e-02,  2.75440812e-02,  6.20379345e-03,\n",
       "          2.89840810e-02,  2.98808031e-02,  1.39800934e-02,  2.34393906e-02,\n",
       "          1.31578743e-02, -8.15946609e-03, -7.25405943e-03,  1.61991026e-02,\n",
       "         -2.83007859e-03, -5.15617877e-02,  3.73881161e-02, -5.15720583e-02,\n",
       "          2.41825748e-02, -6.12334302e-03,  2.43859142e-02, -3.10590584e-03,\n",
       "         -2.65687257e-02,  4.22219187e-03, -4.65094335e-02, -5.49026765e-02,\n",
       "         -4.29087132e-02,  2.09319815e-02, -7.04431832e-02, -5.97196072e-03,\n",
       "          2.15293560e-02,  1.87378377e-02, -4.15698141e-02,  4.65892106e-02,\n",
       "         -1.82524417e-02, -5.90270944e-02, -1.31153939e-02,  1.06223561e-02,\n",
       "         -5.82722388e-02,  3.75969410e-02,  1.01577036e-01,  8.68178345e-03,\n",
       "         -2.69003324e-02,  1.49476035e-02, -2.38371100e-02,  3.15376930e-02,\n",
       "          3.49889603e-03,  1.36934826e-02, -1.61742922e-02, -5.66267334e-02,\n",
       "         -1.05551910e-02, -2.27335709e-04, -4.34376001e-02,  2.06702184e-02,\n",
       "         -2.07283478e-02, -1.23934271e-02,  2.50433944e-02,  5.68858208e-03,\n",
       "          1.18804742e-02, -1.20968623e-02,  3.02282777e-02,  2.06713844e-02,\n",
       "          1.59784015e-02, -1.59643777e-02,  5.24192639e-02, -7.74982385e-03,\n",
       "          5.35055390e-03,  4.92135547e-02,  1.92457177e-02, -2.29388941e-02,\n",
       "         -4.56190715e-03,  4.51208130e-02,  4.83060405e-02,  1.43193742e-02,\n",
       "         -1.78182758e-02,  2.51023564e-02,  5.56092039e-02, -1.64584015e-02,\n",
       "         -2.22472474e-02, -4.10483629e-02, -9.25671123e-03, -9.02788434e-03,\n",
       "          4.51841578e-02, -4.70374413e-02, -7.16203675e-02,  5.26417717e-02,\n",
       "         -2.39776429e-02,  5.34030497e-02, -7.36186579e-02,  8.40085931e-03,\n",
       "          3.99610735e-02,  1.40815799e-03, -7.27249607e-02, -3.68971452e-02,\n",
       "          6.98183924e-02, -2.73260232e-02,  3.45148668e-02,  2.85621081e-02,\n",
       "          8.15034471e-03, -4.59748544e-02, -7.51067186e-03, -8.91581625e-02,\n",
       "         -3.27146463e-02,  1.94420777e-02, -2.55326740e-02,  8.17435756e-02,\n",
       "         -9.52040777e-03,  8.09223671e-03,  4.46553640e-02,  4.85716090e-02,\n",
       "          2.12390646e-02, -3.38923782e-02, -2.62727514e-02,  8.76799971e-02,\n",
       "         -1.31382458e-02, -2.19391380e-02, -6.47794232e-02,  4.53681732e-03,\n",
       "         -2.62623262e-02,  3.34013030e-02,  2.42476538e-02, -3.26495953e-02,\n",
       "          4.59267348e-02,  3.84972431e-02, -9.68369097e-02,  3.95036079e-02,\n",
       "          1.78531278e-02, -1.20628988e-02,  2.85529997e-02, -5.40479943e-02,\n",
       "         -2.25013983e-03,  1.39961569e-02, -1.23071251e-02, -3.68519053e-02,\n",
       "         -3.78693976e-02, -2.78290510e-02,  7.20454054e-03, -3.90056148e-02,\n",
       "         -5.40651381e-02, -7.29692867e-03,  4.56284359e-02, -2.34467257e-02,\n",
       "          2.32522655e-02, -2.68031023e-02,  3.97826843e-02,  1.83993783e-02,\n",
       "          1.80080496e-02,  2.08107773e-02,  3.97540964e-02,  7.43707120e-02,\n",
       "          3.91899870e-04, -1.66687695e-03, -1.58301406e-02, -2.08799988e-02,\n",
       "         -3.53214704e-02, -2.21038554e-02,  1.28800478e-02, -2.87420861e-03],\n",
       "        dtype=float32)}]"
      ]
     },
     "execution_count": 23,
     "metadata": {},
     "output_type": "execute_result"
    }
   ],
   "source": [
    "[doc for doc in documents if doc[\"id\"] == \"ee58a693\"]"
   ]
  },
  {
   "cell_type": "markdown",
   "metadata": {},
   "source": [
    "#### Q6. Hit-rate for Elasticsearch"
   ]
  },
  {
   "cell_type": "code",
   "execution_count": 24,
   "metadata": {},
   "outputs": [],
   "source": [
    "def elastic_search_knn(field, vector, course):\n",
    "    knn = {\n",
    "        \"field\": field,\n",
    "        \"query_vector\": vector,\n",
    "        \"k\": 5,\n",
    "        \"num_candidates\": 10000,\n",
    "        \"filter\": {\n",
    "            \"term\": {\n",
    "                \"course\": course\n",
    "            }\n",
    "        }\n",
    "    }\n",
    "\n",
    "    search_query = {\n",
    "        \"knn\": knn,\n",
    "        \"_source\": [\"text\", \"section\", \"question\", \"course\", \"id\"]\n",
    "    }\n",
    "\n",
    "    es_results = es_client.search(\n",
    "        index=index_name,\n",
    "        body=search_query\n",
    "    )\n",
    "    \n",
    "    result_docs = []\n",
    "    \n",
    "    for hit in es_results['hits']['hits']:\n",
    "        result_docs.append(hit['_source'])\n",
    "\n",
    "    return result_docs"
   ]
  },
  {
   "cell_type": "code",
   "execution_count": 43,
   "metadata": {},
   "outputs": [],
   "source": [
    "def question_vector_knn(q):\n",
    "    question = q['question']\n",
    "    course = q['course']\n",
    "\n",
    "    v_q = embedding_model.encode(question)\n",
    "\n",
    "    return elastic_search('question_vector', v_q, 15)"
   ]
  },
  {
   "cell_type": "code",
   "execution_count": 45,
   "metadata": {},
   "outputs": [],
   "source": [
    "query = \"I just discovered the course. Can I still join it?\"\n",
    "v_q = embedding_model.encode(query)"
   ]
  },
  {
   "cell_type": "code",
   "execution_count": 46,
   "metadata": {},
   "outputs": [],
   "source": [
    "def evaluate(ground_truth, search_function):\n",
    "    relevance_total = []\n",
    "\n",
    "    for q in tqdm(ground_truth):\n",
    "        doc_id = q['document']\n",
    "        results = search_function(q)\n",
    "        relevance = [d['id'] == doc_id for d in results]\n",
    "        relevance_total.append(relevance)\n",
    "\n",
    "    return {\n",
    "        'hit_rate': hit_rate(relevance_total),\n",
    "\n",
    "    }"
   ]
  },
  {
   "cell_type": "code",
   "execution_count": 47,
   "metadata": {},
   "outputs": [
    {
     "name": "stderr",
     "output_type": "stream",
     "text": [
      "100%|██████████| 1830/1830 [00:45<00:00, 40.10it/s]\n"
     ]
    },
    {
     "data": {
      "text/plain": [
       "{'hit_rate': 0.8508196721311475}"
      ]
     },
     "execution_count": 47,
     "metadata": {},
     "output_type": "execute_result"
    }
   ],
   "source": [
    "evaluate(ground_truth, question_vector_knn)"
   ]
  }
 ],
 "metadata": {
  "kernelspec": {
   "display_name": "Python 3",
   "language": "python",
   "name": "python3"
  },
  "language_info": {
   "codemirror_mode": {
    "name": "ipython",
    "version": 3
   },
   "file_extension": ".py",
   "mimetype": "text/x-python",
   "name": "python",
   "nbconvert_exporter": "python",
   "pygments_lexer": "ipython3",
   "version": "3.10.13"
  }
 },
 "nbformat": 4,
 "nbformat_minor": 2
}
